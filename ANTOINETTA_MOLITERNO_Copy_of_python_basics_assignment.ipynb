{
  "nbformat": 4,
  "nbformat_minor": 0,
  "metadata": {
    "colab": {
      "name": "ANTOINETTA MOLITERNO - Copy of python_basics_assignment.ipynb",
      "provenance": [],
      "collapsed_sections": [],
      "include_colab_link": true
    },
    "kernelspec": {
      "name": "python3",
      "display_name": "Python 3"
    },
    "language_info": {
      "name": "python"
    }
  },
  "cells": [
    {
      "cell_type": "markdown",
      "metadata": {
        "id": "view-in-github",
        "colab_type": "text"
      },
      "source": [
        "<a href=\"https://colab.research.google.com/github/24moliternoa/2021_22-Ratza-Intro-CS-Sem-2/blob/main/ANTOINETTA_MOLITERNO_Copy_of_python_basics_assignment.ipynb\" target=\"_parent\"><img src=\"https://colab.research.google.com/assets/colab-badge.svg\" alt=\"Open In Colab\"/></a>"
      ]
    },
    {
      "cell_type": "markdown",
      "source": [
        "### Key Terms\n",
        "\n",
        "Complete the following questions to solidify you're understanding of the key concepts. Feel free to use the lecture notebook or any other resources to help you, but do not copy and paste answers from the internet instead use your own words to present your understanding.\n",
        "\n",
        "----"
      ],
      "metadata": {
        "id": "2cOCCaF6Q4ys"
      }
    },
    {
      "cell_type": "markdown",
      "source": [
        "What is a general use programming language? "
      ],
      "metadata": {
        "id": "e_bDYmbjRHNc"
      }
    },
    {
      "cell_type": "markdown",
      "source": [
        "to create games and other technology in a language humans can learn (not 1s and 0s)"
      ],
      "metadata": {
        "id": "ROigjjFsRHKB"
      }
    },
    {
      "cell_type": "markdown",
      "source": [
        "Who invented Python and when?\n",
        "\n",
        "\n",
        "\n"
      ],
      "metadata": {
        "id": "X4j6a8y4RHGG"
      }
    },
    {
      "cell_type": "markdown",
      "source": [
        "Guido van Rossum, released February 20, 1991"
      ],
      "metadata": {
        "id": "B5WWUhgXRHDt"
      }
    },
    {
      "cell_type": "markdown",
      "source": [
        "What is the difference between front-end and back-end? "
      ],
      "metadata": {
        "id": "RHkgvf39RHBm"
      }
    },
    {
      "cell_type": "markdown",
      "source": [
        "front end is what you can interact with and see, the back end is the code"
      ],
      "metadata": {
        "id": "cl7LFD3pRG_H"
      }
    },
    {
      "cell_type": "markdown",
      "source": [
        "What is a GUI?"
      ],
      "metadata": {
        "id": "oTkkpwhVRG80"
      }
    },
    {
      "cell_type": "markdown",
      "source": [
        "graphical user interface"
      ],
      "metadata": {
        "id": "aoVSrA67RG6D"
      }
    },
    {
      "cell_type": "markdown",
      "source": [
        "What is an API?"
      ],
      "metadata": {
        "id": "nHjQwFW1RG4C"
      }
    },
    {
      "cell_type": "markdown",
      "source": [
        "application programming interface"
      ],
      "metadata": {
        "id": "0A6LKX_5RG1x"
      }
    },
    {
      "cell_type": "markdown",
      "source": [
        "What is Open Source Software?"
      ],
      "metadata": {
        "id": "RWzJmW61RGzR"
      }
    },
    {
      "cell_type": "markdown",
      "source": [
        "where you can see the source code and edit and use it"
      ],
      "metadata": {
        "id": "J8Lcpl46RGwu"
      }
    },
    {
      "cell_type": "markdown",
      "source": [
        "What is a development environment?"
      ],
      "metadata": {
        "id": "gob_Rgp8RGqT"
      }
    },
    {
      "cell_type": "markdown",
      "source": [
        "an environment where developers can experiment without breaking a live program"
      ],
      "metadata": {
        "id": "BCPeV2UCRGZm"
      }
    },
    {
      "cell_type": "markdown",
      "source": [
        "What is meant by local and remote in the context of computers?"
      ],
      "metadata": {
        "id": "lKduQMuWSYoC"
      }
    },
    {
      "cell_type": "markdown",
      "source": [
        "local is related or restricted to where you're at, remote is when the computer is not here and accessed thru a network"
      ],
      "metadata": {
        "id": "GcJMiJjFSfO2"
      }
    },
    {
      "cell_type": "markdown",
      "source": [
        "What is an operating system?"
      ],
      "metadata": {
        "id": "cb6Coc48Sgev"
      }
    },
    {
      "cell_type": "markdown",
      "source": [
        "a software that supports the computers basic functions\n"
      ],
      "metadata": {
        "id": "586kJGbvSlw5"
      }
    },
    {
      "cell_type": "markdown",
      "source": [
        "What is a kernel?"
      ],
      "metadata": {
        "id": "7tRiStzGSltk"
      }
    },
    {
      "cell_type": "markdown",
      "source": [
        "the core of the computers operating system"
      ],
      "metadata": {
        "id": "jp5g1ZgWSlq6"
      }
    },
    {
      "cell_type": "markdown",
      "source": [
        "What is a shell?"
      ],
      "metadata": {
        "id": "WdOAakQJSloH"
      }
    },
    {
      "cell_type": "markdown",
      "source": [
        "a computer shell allows you to enter code commands with your keyboard"
      ],
      "metadata": {
        "id": "Gpaic8JSSlle"
      }
    },
    {
      "cell_type": "markdown",
      "source": [
        "What shell do we have access to in Colab notebooks?"
      ],
      "metadata": {
        "id": "hn5QICK0Slio"
      }
    },
    {
      "cell_type": "markdown",
      "source": [
        "bash"
      ],
      "metadata": {
        "id": "vYRb0JJXSlfx"
      }
    },
    {
      "cell_type": "markdown",
      "source": [
        "What is an interpreter?"
      ],
      "metadata": {
        "id": "dmgmzh-ISldB"
      }
    },
    {
      "cell_type": "markdown",
      "source": [
        ""
      ],
      "metadata": {
        "id": "Y79bP4GLS3bI"
      }
    },
    {
      "cell_type": "markdown",
      "source": [
        "What is a value in programming?"
      ],
      "metadata": {
        "id": "A2q30j02S3G3"
      }
    },
    {
      "cell_type": "markdown",
      "source": [
        "a computer program that directly executes instructions written in a programming or scripting language without translating it to computer language"
      ],
      "metadata": {
        "id": "ilES-rT6S9vm"
      }
    },
    {
      "cell_type": "markdown",
      "source": [
        "What is an expression in programming?"
      ],
      "metadata": {
        "id": "KI34llQnS--5"
      }
    },
    {
      "cell_type": "markdown",
      "source": [
        " values and functions combined to make an output"
      ],
      "metadata": {
        "id": "VHXYGhIcTBw9"
      }
    },
    {
      "cell_type": "markdown",
      "source": [
        "What is syntax?"
      ],
      "metadata": {
        "id": "pmKFicLMTCcD"
      }
    },
    {
      "cell_type": "markdown",
      "source": [
        "a set of rules for or an analysis of the syntax of a coding language"
      ],
      "metadata": {
        "id": "sqCxeE2TTKvy"
      }
    },
    {
      "cell_type": "markdown",
      "source": [
        "What do we call the process of discovering and resolving errors?"
      ],
      "metadata": {
        "id": "B8m5jqm6TLHE"
      }
    },
    {
      "cell_type": "markdown",
      "source": [
        "debugging (?)"
      ],
      "metadata": {
        "id": "0TozR78oTRK4"
      }
    },
    {
      "cell_type": "markdown",
      "source": [
        "### Code"
      ],
      "metadata": {
        "id": "OJR_RDQpTRyR"
      }
    },
    {
      "cell_type": "markdown",
      "source": [
        "Let's revisit some of the things we practiced in the lecture. In the code cell below print your name to the console without first declaring it as a variable."
      ],
      "metadata": {
        "id": "zPvODBfiTWCP"
      }
    },
    {
      "cell_type": "code",
      "source": [
        "print(\"netta moliterno\")"
      ],
      "metadata": {
        "id": "mZb-v_UwTO7B",
        "colab": {
          "base_uri": "https://localhost:8080/"
        },
        "outputId": "86c28ab5-8daa-4711-e43f-2e61489a2dc4"
      },
      "execution_count": null,
      "outputs": [
        {
          "output_type": "stream",
          "name": "stdout",
          "text": [
            "netta moliterno\n"
          ]
        }
      ]
    },
    {
      "cell_type": "markdown",
      "source": [
        "Now declare your first name and last name as separate variables and combine them in the print statement."
      ],
      "metadata": {
        "id": "sZPksnwpTnTD"
      }
    },
    {
      "cell_type": "code",
      "source": [
        "last=\"moliterno\"\n",
        "first=\"antoinetta\"\n",
        "print(first+\" \"+last)"
      ],
      "metadata": {
        "id": "oqmZRhYLTztw",
        "colab": {
          "base_uri": "https://localhost:8080/"
        },
        "outputId": "90014413-eace-43b9-937e-4eb66750df59"
      },
      "execution_count": null,
      "outputs": [
        {
          "output_type": "stream",
          "name": "stdout",
          "text": [
            "antoinetta moliterno\n"
          ]
        }
      ]
    },
    {
      "cell_type": "markdown",
      "source": [
        "In the cell below run the \"Zen of Python\" easter egg."
      ],
      "metadata": {
        "id": "cNe3K4WZT2_0"
      }
    },
    {
      "cell_type": "code",
      "source": [
        "import this"
      ],
      "metadata": {
        "id": "FSkN7Q52UKyU",
        "colab": {
          "base_uri": "https://localhost:8080/"
        },
        "outputId": "51e207d2-f19f-4e8a-fa9e-da5cd8eed413"
      },
      "execution_count": null,
      "outputs": [
        {
          "output_type": "stream",
          "name": "stdout",
          "text": [
            "The Zen of Python, by Tim Peters\n",
            "\n",
            "Beautiful is better than ugly.\n",
            "Explicit is better than implicit.\n",
            "Simple is better than complex.\n",
            "Complex is better than complicated.\n",
            "Flat is better than nested.\n",
            "Sparse is better than dense.\n",
            "Readability counts.\n",
            "Special cases aren't special enough to break the rules.\n",
            "Although practicality beats purity.\n",
            "Errors should never pass silently.\n",
            "Unless explicitly silenced.\n",
            "In the face of ambiguity, refuse the temptation to guess.\n",
            "There should be one-- and preferably only one --obvious way to do it.\n",
            "Although that way may not be obvious at first unless you're Dutch.\n",
            "Now is better than never.\n",
            "Although never is often better than *right* now.\n",
            "If the implementation is hard to explain, it's a bad idea.\n",
            "If the implementation is easy to explain, it may be a good idea.\n",
            "Namespaces are one honking great idea -- let's do more of those!\n"
          ]
        }
      ]
    },
    {
      "cell_type": "markdown",
      "source": [
        "### Explore"
      ],
      "metadata": {
        "id": "2ADI5kQAUMLI"
      }
    },
    {
      "cell_type": "markdown",
      "source": [
        "This portion of the assignment contains things we didn't explicitly cover in the lecture, instead encouraging you to explore and experiment on your own to discover some of the different operators and expressions in Python. For each expression first describe what you expect to happen before running the code cell.\n",
        "\n",
        "Documentation for Python's numeric operators can be found [here](https://docs.python.org/3.10/library/stdtypes.html#numeric-types-int-float-complex)"
      ],
      "metadata": {
        "id": "vchHFmicUOid"
      }
    },
    {
      "cell_type": "markdown",
      "source": [
        "#### `5 + 2 * 2`\n",
        "\n",
        "What do you expect to happen? "
      ],
      "metadata": {
        "id": "_lTiBbJMU28S"
      }
    },
    {
      "cell_type": "markdown",
      "source": [
        "2 will multiply by two and then be added to 5, outputting 9"
      ],
      "metadata": {
        "id": "P6-diOTwU_ir"
      }
    },
    {
      "cell_type": "code",
      "source": [
        "5+2*2"
      ],
      "metadata": {
        "id": "ALTC2aYRUNRe",
        "colab": {
          "base_uri": "https://localhost:8080/"
        },
        "outputId": "a9aa85fa-bfdf-4fba-82ce-fe91416fc7bb"
      },
      "execution_count": null,
      "outputs": [
        {
          "output_type": "execute_result",
          "data": {
            "text/plain": [
              "9"
            ]
          },
          "metadata": {},
          "execution_count": 5
        }
      ]
    },
    {
      "cell_type": "markdown",
      "source": [
        "#### `2 / 3`\n",
        "\n",
        "What do you expect to happen?"
      ],
      "metadata": {
        "id": "zSMDH8osVEEN"
      }
    },
    {
      "cell_type": "markdown",
      "source": [
        " two will be divided by three outputting the result"
      ],
      "metadata": {
        "id": "MJ_mZbouVI9_"
      }
    },
    {
      "cell_type": "code",
      "source": [
        "2/3"
      ],
      "metadata": {
        "id": "FYMUlyCEVHD1",
        "colab": {
          "base_uri": "https://localhost:8080/"
        },
        "outputId": "dc9d79eb-aa0f-42e3-b5d5-4f3321bacade"
      },
      "execution_count": null,
      "outputs": [
        {
          "output_type": "execute_result",
          "data": {
            "text/plain": [
              "0.6666666666666666"
            ]
          },
          "metadata": {},
          "execution_count": 6
        }
      ]
    },
    {
      "cell_type": "code",
      "source": [
        ""
      ],
      "metadata": {
        "id": "vuTFIjbE3nWV"
      },
      "execution_count": null,
      "outputs": []
    },
    {
      "cell_type": "code",
      "source": [
        ""
      ],
      "metadata": {
        "id": "cb9ghUNs3nTt"
      },
      "execution_count": null,
      "outputs": []
    },
    {
      "cell_type": "markdown",
      "source": [
        "#### `2.5 * 10`\n",
        "\n",
        "What do you expect to happen? "
      ],
      "metadata": {
        "id": "c8LQrbNQVIID"
      }
    },
    {
      "cell_type": "markdown",
      "source": [
        "2.5 is multiplied by 10 making the float 25.0"
      ],
      "metadata": {
        "id": "J1Ts7WLEVPU-"
      }
    },
    {
      "cell_type": "code",
      "source": [
        "2.5*10"
      ],
      "metadata": {
        "id": "IuE7GclzVOpO",
        "colab": {
          "base_uri": "https://localhost:8080/"
        },
        "outputId": "184d7a86-bf65-499f-e7e8-1664a5bb35cb"
      },
      "execution_count": null,
      "outputs": [
        {
          "output_type": "execute_result",
          "data": {
            "text/plain": [
              "25.0"
            ]
          },
          "metadata": {},
          "execution_count": 7
        }
      ]
    },
    {
      "cell_type": "markdown",
      "source": [
        "#### `a`\n",
        "\n",
        "What do you expect to happen? name error"
      ],
      "metadata": {
        "id": "YfKfY31nVSfy"
      }
    },
    {
      "cell_type": "markdown",
      "source": [
        ""
      ],
      "metadata": {
        "id": "Y_FQACtgVVL8"
      }
    },
    {
      "cell_type": "code",
      "source": [
        "a"
      ],
      "metadata": {
        "id": "pukzPvzXVUgM",
        "colab": {
          "base_uri": "https://localhost:8080/",
          "height": 165
        },
        "outputId": "c5734277-6a69-4b87-a319-6dfa691f503b"
      },
      "execution_count": null,
      "outputs": [
        {
          "output_type": "error",
          "ename": "NameError",
          "evalue": "ignored",
          "traceback": [
            "\u001b[0;31m---------------------------------------------------------------------------\u001b[0m",
            "\u001b[0;31mNameError\u001b[0m                                 Traceback (most recent call last)",
            "\u001b[0;32m<ipython-input-8-3f786850e387>\u001b[0m in \u001b[0;36m<module>\u001b[0;34m()\u001b[0m\n\u001b[0;32m----> 1\u001b[0;31m \u001b[0ma\u001b[0m\u001b[0;34m\u001b[0m\u001b[0;34m\u001b[0m\u001b[0m\n\u001b[0m",
            "\u001b[0;31mNameError\u001b[0m: name 'a' is not defined"
          ]
        }
      ]
    },
    {
      "cell_type": "markdown",
      "source": [
        "#### `'a'`\n",
        "\n",
        "\n",
        "What do you expect to happen? the console will output a"
      ],
      "metadata": {
        "id": "x_G2qoXLVhVj"
      }
    },
    {
      "cell_type": "markdown",
      "source": [
        ""
      ],
      "metadata": {
        "id": "IjTY1xn_VoB4"
      }
    },
    {
      "cell_type": "code",
      "source": [
        "'a'"
      ],
      "metadata": {
        "id": "e0PEkzRHVjVo",
        "colab": {
          "base_uri": "https://localhost:8080/",
          "height": 35
        },
        "outputId": "7cf535ac-b764-4849-d167-f7fca2601f76"
      },
      "execution_count": null,
      "outputs": [
        {
          "output_type": "execute_result",
          "data": {
            "application/vnd.google.colaboratory.intrinsic+json": {
              "type": "string"
            },
            "text/plain": [
              "'a'"
            ]
          },
          "metadata": {},
          "execution_count": 9
        }
      ]
    },
    {
      "cell_type": "markdown",
      "source": [
        "#### `521 // 5`\n",
        "\n",
        "What do you expect to happen?"
      ],
      "metadata": {
        "id": "2kCnvuRvVprG"
      }
    },
    {
      "cell_type": "markdown",
      "source": [
        "521 is divided by 5 but it rounds up"
      ],
      "metadata": {
        "id": "QWOocovcV3i6"
      }
    },
    {
      "cell_type": "code",
      "source": [
        "521//5"
      ],
      "metadata": {
        "id": "n9QgKjHxV7oX",
        "colab": {
          "base_uri": "https://localhost:8080/"
        },
        "outputId": "eed3b7fa-753b-4176-e59c-566ad5410452"
      },
      "execution_count": null,
      "outputs": [
        {
          "output_type": "execute_result",
          "data": {
            "text/plain": [
              "104"
            ]
          },
          "metadata": {},
          "execution_count": 3
        }
      ]
    }
  ]
}